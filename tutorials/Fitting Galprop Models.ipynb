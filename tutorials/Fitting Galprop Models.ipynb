{
 "cells": [
  {
   "cell_type": "markdown",
   "metadata": {},
   "source": [
    "# Fitting a Galprop Model to the Full Sky. \n",
    "\n",
    "We reproduce the global fitting analysis of http://arxiv.org/abs/1603.06584.  The fit is done in three stages using output files from Galprop.  First we fit the high latitude sky, then we fit the outer galaxy, and finally, the inner Galaxy.  XCO is allowed to float freely in this case.  \n",
    "\n",
    "The output format is a single HDF5 file, which will be useful in later analysis. If one does not wish to fit a galprop model, but instead just use the output, see the tutorial, using Galprop output. \n",
    "\n",
    "\n",
    "This analysis assumes that the galprop output has 9 rings for each gas component.  These input gas maps to galprop can be found in the support_files folder of the GammaLike github repo."
   ]
  },
  {
   "cell_type": "code",
   "execution_count": 1,
   "metadata": {
    "collapsed": false
   },
   "outputs": [
    {
     "name": "stdout",
     "output_type": "stream",
     "text": [
      "n_bin 24\n",
      "\n",
      "prefix_bins [300, 350, 400, 450, 500]\n",
      "\n",
      "bin_edges [300, 350, 400, 450, 500, 547.2323158362108, 601.2200910215647, 663.2879087708664, 735.0971468870904, 818.7532046278744, 916.9544789959845, 1033.2026447349936, 1172.1046814272897, 1339.8151304907515, 1544.6977603251885, 1798.3396298976365, 2117.148088832819, 2524.9448987645496, 3057.3326387899497, 3769.3542418651687, 4749.598731422173, 6147.732219113806, 8232.171915073259, 11522.05562743794, 17125.541309332028, 27749.96701170311, 51453.73335151493, 121347.72870907947, 499999.9999999396]\n",
      "28\n",
      "(24, 786432)\n",
      "healpixcube2 (28, 786432)\n",
      "healpixcube2 (28, 786432)\n",
      "healpixcube2 (28, 786432)\n",
      "healpixcube2 (28, 786432)\n",
      "healpixcube2 (28, 786432)\n",
      "healpixcube2 (28, 786432)\n",
      "healpixcube2 (28, 786432)\n",
      "healpixcube2 (28, 786432)\n",
      "healpixcube2 (28, 786432)\n",
      "healpixcube2 (28, 786432)\n",
      "healpixcube2 (28, 786432)\n",
      "healpixcube2 (28, 786432)\n",
      "healpixcube2 (28, 786432)\n",
      "healpixcube2 (28, 786432)\n",
      "healpixcube2 (28, 786432)\n",
      "healpixcube2 (28, 786432)\n",
      "healpixcube2 (28, 786432)\n",
      "healpixcube2 (28, 786432)\n",
      "healpixcube2 (28, 786432)\n",
      "healpixcube2 (28, 786432)\n",
      "healpixcube2 (28, 786432)\n",
      "healpixcube2 (28, 786432)\n",
      "healpixcube2 (28, 786432)\n",
      "healpixcube2 (28, 786432)\n",
      "healpixcube2 (28, 786432)\n"
     ]
    },
    {
     "ename": "IndexError",
     "evalue": "index 24 is out of bounds for axis 0 with size 24",
     "output_type": "error",
     "traceback": [
      "\u001b[1;31m\u001b[0m",
      "\u001b[1;31mIndexError\u001b[0mTraceback (most recent call last)",
      "\u001b[1;32m<ipython-input-1-0e2f3c811916>\u001b[0m in \u001b[0;36m<module>\u001b[1;34m()\u001b[0m\n\u001b[0;32m     11\u001b[0m A.AddIsotropicTemplate(\n\u001b[0;32m     12\u001b[0m         \u001b[0misofile\u001b[0m\u001b[1;33m=\u001b[0m\u001b[1;34m'/data/GCE_sys/IGRB_ackerman_2014_modA.dat'\u001b[0m\u001b[1;33m,\u001b[0m \u001b[1;31m# See the appendix at the bottom of the file.\u001b[0m\u001b[1;33m\u001b[0m\u001b[0m\n\u001b[1;32m---> 13\u001b[1;33m         fixNorm=False, fixSpectrum=False) \n\u001b[0m\u001b[0;32m     14\u001b[0m \u001b[1;33m\u001b[0m\u001b[0m\n\u001b[0;32m     15\u001b[0m \u001b[1;31m# A.AddPointSourceTemplate(fixNorm=True, # Fix the template normalization in all bins.\u001b[0m\u001b[1;33m\u001b[0m\u001b[1;33m\u001b[0m\u001b[0m\n",
      "\u001b[1;32m/data/GammaLike/GammaLike/Analysis.py\u001b[0m in \u001b[0;36mAddIsotropicTemplate\u001b[1;34m(self, isofile, fixNorm, fixSpectrum)\u001b[0m\n\u001b[0;32m    656\u001b[0m         \u001b[1;31m# IRFs are applied during add template.  This multiplies by cm^2 s\u001b[0m\u001b[1;33m\u001b[0m\u001b[1;33m\u001b[0m\u001b[0m\n\u001b[0;32m    657\u001b[0m         self.AddTemplate(name='Isotropic', healpixCube=healpixCube, fixSpectrum=fixSpectrum,\n\u001b[1;32m--> 658\u001b[1;33m                          fixNorm=fixNorm, limits=[None, None], value=1, ApplyIRF=True, sourceClass='ISO', valueUnc=valueUnc)\n\u001b[0m\u001b[0;32m    659\u001b[0m \u001b[1;33m\u001b[0m\u001b[0m\n\u001b[0;32m    660\u001b[0m     def AddDMTemplate(self, profile='NFW', decay=False, gamma=1, axesratio=1, offset=(0, 0), r_s=20.,\n",
      "\u001b[1;32m/data/GammaLike/GammaLike/Analysis.py\u001b[0m in \u001b[0;36mAddTemplate\u001b[1;34m(self, name, healpixCube, fixSpectrum, fixNorm, limits, value, ApplyIRF, sourceClass, multiplier, valueUnc, noPSF)\u001b[0m\n\u001b[0;32m    597\u001b[0m                     \u001b[1;32mprint\u001b[0m \u001b[1;34m'healpixcube2'\u001b[0m\u001b[1;33m,\u001b[0m \u001b[0mhealpixCube2\u001b[0m\u001b[1;33m.\u001b[0m\u001b[0mshape\u001b[0m\u001b[1;33m\u001b[0m\u001b[0m\n\u001b[0;32m    598\u001b[0m                     healpixCube2[i_E] = Tools.ApplyIRF(healpixCube2[i_E], self.bin_edges[i_E], self.bin_edges[i_E+1],\n\u001b[1;32m--> 599\u001b[1;33m                                                       self.psfFile, self.expCube, noPSF=True, expMap=self.expMap[i_E])\n\u001b[0m\u001b[0;32m    600\u001b[0m                 \u001b[1;32melse\u001b[0m\u001b[1;33m:\u001b[0m\u001b[1;33m\u001b[0m\u001b[0m\n\u001b[0;32m    601\u001b[0m                     \u001b[1;31m# This can be expensive if applying the PSF due to spherical harmonic transforms.\u001b[0m\u001b[1;33m\u001b[0m\u001b[1;33m\u001b[0m\u001b[0m\n",
      "\u001b[1;31mIndexError\u001b[0m: index 24 is out of bounds for axis 0 with size 24"
     ]
    }
   ],
   "source": [
    "import sys\n",
    "sys.path.append('/data/GammaLike/')\n",
    "from GammaLike import Analysis\n",
    "\n",
    "basepath = '/data/GammaLike/testing/'\n",
    "tag = 'P8R2_CLEAN_V6_calore' \n",
    "A = Analysis.Load(basepath+tag+'.GLanalysis')\n",
    "\n",
    "\n",
    "\n",
    "A.AddIsotropicTemplate(\n",
    "        isofile='/data/GCE_sys/IGRB_ackerman_2014_modA.dat', # See the appendix at the bottom of the file. \n",
    "        fixNorm=False, fixSpectrum=False) \n",
    "\n",
    "# A.AddPointSourceTemplate(fixNorm=True, # Fix the template normalization in all bins.\n",
    "#                          pscmap=A.basepath + '/PSC_' + A.tag + '_fgl3_with_ext.npy') # This was generated in the first tutorial\n",
    "\n",
    "# A.CalculatePixelWeights(diffuse_model=A.basepath+'/'+'fermi_diffuse_'+A.tag+'.npy',\n",
    "#                         psc_model=A.basepath + '/PSC_' + A.tag + '_fgl3_with_ext.npy',\n",
    "#                         alpha_psc=5., f_psc=0.1) # see 1409.0042 Eq.(2.6)\n",
    "\n",
    "# A.AddFermiBubbleTemplate(template_file='./bubble_templates_diskcut30.0.fits',\n",
    "#                          spec_file='./reduced_bubble_spec_apj_793_64.dat', fixSpectrum=True, fixNorm=False)\n",
    "\n",
    "print len(A.bin_edges)"
   ]
  },
  {
   "cell_type": "code",
   "execution_count": 2,
   "metadata": {
    "collapsed": false
   },
   "outputs": [
    {
     "name": "stdout",
     "output_type": "stream",
     "text": [
      "n_bin 24\n",
      "\n",
      "prefix_bins [300, 350, 400, 450, 500]\n",
      "\n",
      "bin_edges [300, 350, 400, 450, 500, 547.2323158362108, 601.2200910215647, 663.2879087708664, 735.0971468870904, 818.7532046278744, 916.9544789959845, 1033.2026447349936, 1172.1046814272897, 1339.8151304907515, 1544.6977603251885, 1798.3396298976365, 2117.148088832819, 2524.9448987645496, 3057.3326387899497, 3769.3542418651687, 4749.598731422173, 6147.732219113806, 8232.171915073259, 11522.05562743794, 17125.541309332028, 27749.96701170311, 51453.73335151493, 121347.72870907947, 499999.9999999396]\n",
      "templateDir\n",
      "zmax\n",
      "basepath\n",
      "central_energies\n",
      "E_min\n",
      "tag\n",
      "gtfilter\n",
      "convtype\n",
      "prefix_bins\n",
      "psfFile\n",
      "E_max\n",
      "fglpath\n",
      "Blocked! bin_edges\n",
      "irf\n",
      "nside\n",
      "expCube\n",
      "Blocked! n_bins\n",
      "phfile\n",
      "evtype\n",
      "evclass\n",
      "scfile\n",
      "phfile_raw\n",
      "gamma\n",
      "\n",
      "28\n"
     ]
    }
   ],
   "source": [
    "A = Analysis.Load(basepath+tag+'.GLanalysis')\n",
    "\n",
    "print \n",
    "print A.n_bins"
   ]
  },
  {
   "cell_type": "code",
   "execution_count": 2,
   "metadata": {
    "collapsed": false
   },
   "outputs": [
    {
     "data": {
      "text/plain": [
       "(24, 786432)"
      ]
     },
     "execution_count": 2,
     "metadata": {},
     "output_type": "execute_result"
    }
   ],
   "source": []
  },
  {
   "cell_type": "code",
   "execution_count": null,
   "metadata": {
    "collapsed": true
   },
   "outputs": [],
   "source": []
  }
 ],
 "metadata": {
  "kernelspec": {
   "display_name": "Python 2",
   "language": "python",
   "name": "python2"
  }
 },
 "nbformat": 4,
 "nbformat_minor": 0
}
