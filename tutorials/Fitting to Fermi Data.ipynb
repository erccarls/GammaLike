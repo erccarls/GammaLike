{
 "cells": [
  {
   "cell_type": "markdown",
   "metadata": {},
   "source": [
    "In this tutorial, we will examine the basic elements of an Analysis.  The main object we will manipulate is the Analysis class, which contains a variety of helper functions to simplify adding, removing, and manipulating the templates we want to fit, as well as the fit masks.  \n",
    "\n",
    "First, we load the anlaysis from the previous tutorial. \n"
   ]
  },
  {
   "cell_type": "code",
   "execution_count": 1,
   "metadata": {
    "collapsed": false
   },
   "outputs": [
    {
     "ename": "IOError",
     "evalue": "[Errno 2] No such file or directory: '/data/GammaLike/testing/P8R2_CLEAN_V6_calore.GLanalysis'",
     "output_type": "error",
     "traceback": [
      "\u001b[1;31m---------------------------------------------------------------------------\u001b[0m",
      "\u001b[1;31mIOError\u001b[0m                                   Traceback (most recent call last)",
      "\u001b[1;32m<ipython-input-1-3a90555e4683>\u001b[0m in \u001b[0;36m<module>\u001b[1;34m()\u001b[0m\n\u001b[0;32m      7\u001b[0m \u001b[0mbasepath\u001b[0m \u001b[1;33m=\u001b[0m \u001b[1;34m'/data/GammaLike/testing/'\u001b[0m\u001b[1;33m\u001b[0m\u001b[0m\n\u001b[0;32m      8\u001b[0m \u001b[0mtag\u001b[0m \u001b[1;33m=\u001b[0m \u001b[1;34m'P8R2_CLEAN_V6_calore'\u001b[0m\u001b[1;33m\u001b[0m\u001b[0m\n\u001b[1;32m----> 9\u001b[1;33m \u001b[0mA\u001b[0m \u001b[1;33m=\u001b[0m \u001b[0mAnalysis\u001b[0m\u001b[1;33m.\u001b[0m\u001b[0mLoad\u001b[0m\u001b[1;33m(\u001b[0m\u001b[0mbasepath\u001b[0m\u001b[1;33m+\u001b[0m\u001b[0mtag\u001b[0m\u001b[1;33m+\u001b[0m\u001b[1;34m'.GLanalysis'\u001b[0m\u001b[1;33m)\u001b[0m\u001b[1;33m\u001b[0m\u001b[0m\n\u001b[0m\u001b[0;32m     10\u001b[0m \u001b[1;33m\u001b[0m\u001b[0m\n\u001b[0;32m     11\u001b[0m \u001b[1;33m\u001b[0m\u001b[0m\n",
      "\u001b[1;32m/data/GammaLike/GammaLike/Analysis.pyc\u001b[0m in \u001b[0;36mLoad\u001b[1;34m(filename)\u001b[0m\n\u001b[0;32m     30\u001b[0m     \u001b[0mLoad\u001b[0m \u001b[0ma\u001b[0m \u001b[0mpre\u001b[0m\u001b[1;33m-\u001b[0m\u001b[0mexisting\u001b[0m \u001b[0manalysis\u001b[0m \u001b[1;32mfrom\u001b[0m \u001b[0mfile\u001b[0m\u001b[1;33m.\u001b[0m\u001b[1;33m\u001b[0m\u001b[0m\n\u001b[0;32m     31\u001b[0m     \"\"\"\n\u001b[1;32m---> 32\u001b[1;33m     \u001b[0ms\u001b[0m \u001b[1;33m=\u001b[0m \u001b[0mpickle\u001b[0m\u001b[1;33m.\u001b[0m\u001b[0mload\u001b[0m\u001b[1;33m(\u001b[0m\u001b[0mopen\u001b[0m\u001b[1;33m(\u001b[0m\u001b[0mfilename\u001b[0m\u001b[1;33m,\u001b[0m \u001b[1;34m'rb'\u001b[0m\u001b[1;33m)\u001b[0m\u001b[1;33m)\u001b[0m\u001b[1;33m\u001b[0m\u001b[0m\n\u001b[0m\u001b[0;32m     33\u001b[0m \u001b[1;33m\u001b[0m\u001b[0m\n\u001b[0;32m     34\u001b[0m     A = Analysis(s['tag'], s['basepath'], \n",
      "\u001b[1;31mIOError\u001b[0m: [Errno 2] No such file or directory: '/data/GammaLike/testing/P8R2_CLEAN_V6_calore.GLanalysis'"
     ]
    }
   ],
   "source": [
    "import sys\n",
    "sys.path.append('/data/GammaLike/')\n",
    "\n",
    "\n",
    "from GammaLike import Analysis\n",
    "\n",
    "basepath = '/data/GammaLike/testing/'\n",
    "tag = 'P8R2_CLEAN_V6_calore' \n",
    "A = Analysis.Load(basepath+tag+'.GLanalysis')\n",
    "\n",
    "\n",
    "\n",
    "\n",
    "\n",
    "\n",
    "\n",
    "\n",
    "\n",
    "\n",
    "\n",
    "\n",
    "\n",
    "\n",
    "\n",
    "\n"
   ]
  },
  {
   "cell_type": "code",
   "execution_count": null,
   "metadata": {
    "collapsed": true
   },
   "outputs": [],
   "source": []
  }
 ],
 "metadata": {
  "kernelspec": {
   "display_name": "Python 2",
   "language": "python",
   "name": "python2"
  },
  "language_info": {
   "codemirror_mode": {
    "name": "ipython",
    "version": 2
   },
   "file_extension": ".py",
   "mimetype": "text/x-python",
   "name": "python",
   "nbconvert_exporter": "python",
   "pygments_lexer": "ipython2",
   "version": "2.7.11"
  }
 },
 "nbformat": 4,
 "nbformat_minor": 0
}
